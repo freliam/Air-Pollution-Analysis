{
  "cells": [
    {
      "metadata": {
        "_uuid": "8b26a4e12417c83ce97628f82ab453232bc27e9c"
      },
      "cell_type": "markdown",
      "source": "# Introduction\nFor my very first data science project, I would like to understand how data science can be used to better understand the environmental challenges singapore faces today as a nation. I choose to look at factors that affect air pollution as Singapore needs to take more steps to ensure that we [are able to meet air quality targets](https://www.channelnewsasia.com/news/singapore/singapore-not-meeting-its-air-quality-targets-masagos-7543240) set by the World Health Organization (WHO). By identifying the root causes for problems, it would help the administrators develop targeted policies to directly address these issues.\n\nAccording to the [National Environment Agency](https://www.nea.gov.sg/our-services/pollution-control/air-pollution/air-quality) (NEA), Singapore enjoys better air quality than many cities in Asia, comparable with that of cities in the United States and Europe. Singapore’s Pollutant Standards Index (PSI) has remained in the ‘Good’ and 'Moderate' range for much of 2017.\n\nThe main sources of air pollution in Singapore are emissions from the industries and motor vehicles. Therefore, we will not only look at the vehicle population data and manufacturing industries data but we will also see if there is a relation between commercial and residential development and air pollution. I choose to include the latter as I feel that Singapore constantly has on-going construction project and i would like to understand if this affects the environment. "
    },
    {
      "metadata": {
        "_uuid": "733b270e647d921f0572656121840aa4b3e4cc0a"
      },
      "cell_type": "markdown",
      "source": "## Background\n[Air pollution](https://www.environmentalpollutioncenters.org/air/) can be defined as the presence of toxic chemicals or compounds (including those of biological origin) in the air, at levels that pose a health risk. In an even broader sense, air pollution means the presence of chemicals or compounds in the air which are usually not present and which lower the quality of the air or cause detrimental changes to the quality of life (such as the damaging of the ozone layer or causing global warming).\n\nAir pollution is probably one of the most serious environmental problems confronting our civilization today. Most often, it is caused by human activities such as mining, construction, transportation, industrial work, agriculture, smelting, etc. However, natural processes such as volcanic eruptions and wildfires may also pollute the air, but their occurrence is rare and they usually have a local effect, unlike human activities that are ubiquitous causes of air pollution and contribute to the global pollution of the air every single day.\n\nThe air pollutants that we will be studying in this project are as follows:\n* Sulphur dioxide ( SO2 ) : This contaminant is mainly emitted during the combustion of fossil fuels such as crude oil and coal.\n* Carbon monoxide ( CO ) : This gas consists during incomplete combustion of fuels example : A car engine running in a closed room.\n* Nitrogen dioxide ( NO2 ) : These contaminants are emitted by traffic, combustion installations and the industries.\n* Ozone ( O3 ) : Ozone is created through the influence of ultra violet sunlight (UV) on pollutants in the outside air.\n* Particulate Matter ( PM ) : Particulate matter is the sum of all solid and liquid particles suspended in air. NEA uses two measurements: PM-10 (10 micrometers or less) and PM-2.5 (2.5 micrometers or less). This complex mixture includes both organic and inorganic particles, such as dust, pollen, soot, smoke, and liquid droplets. These particles vary greatly in size, composition, and origin."
    },
    {
      "metadata": {
        "_cell_guid": "79c7e3d0-c299-4dcb-8224-4455121ee9b0",
        "collapsed": true,
        "_uuid": "d629ff2d2480ee46fbb7e2d37f6b5fab8052498a",
        "trusted": false
      },
      "cell_type": "markdown",
      "source": "## Project overview\nIn this project I am trying to understand the type of factors that would affect environmental pollution in Singapore only. A description of the pollutants can be found [here](https://www.nea.gov.sg/our-services/pollution-control/air-pollution/air-quality). Please note that all the data used here can be found at the end of this document.\n\nThe hypotheses that I am trying to test are as follows: \n1.  An increase in the rate of manufacturing would lead to an increase in pollution in Singapore\n2. An increase in the rate of development of commercial and housing development would lead to an increase in pollution in Singapore\n3. An increase in vehicle population would lead to an increase in pollution in Singapore\n\nIn addition, I would also like to identify which pollutant do these industries largely contribute to. "
    },
    {
      "metadata": {
        "_uuid": "08038875151edd96fd024c725447bf2d572c2914"
      },
      "cell_type": "markdown",
      "source": "## Results analysis\nThe analysis flow can be summarised into four main steps. They are as follows:\n\nFirst, we will download and import the data. As mentioned previously, the download links for the data used can be found at the end of this document. All downloaded data are in the form of a CSV file.\n\nSecond, we will perform data cleansing. In this step, the first thing I did was to remove all NaN or 0 values and select a timeframe to study. Then I will perform [mean normalization](https://medium.com/greyatom/why-how-and-when-to-scale-your-features-4b30ab09db5e) on the data to get a more accurate statistical analysis and graphical plot. We have to normalize our data because our features do not have a uniform scale. Since I wanted data that was centered at zero and kept within a small range, mean normalization was the most appropriate normalization technique. \n\nThirdly, I want to statistically analyze the data. [DataFrame.corr](https://pandas.pydata.org/pandas-docs/stable/generated/pandas.DataFrame.corr.html) computes pairwise correlation of columns. The default method used is [spearmans](https://statistics.laerd.com/statistical-guides/spearmans-rank-order-correlation-statistical-guide.php) to compute the correlation coefficient. \n\nSpearman's correlation determines the strength and direction of the monotonic relationship between your two variables rather than the strength and direction of the linear relationship between your two variables, which is what Pearson's correlation determines. A monotonic relationship is a relationship that does one of the following: (1) as the value of one variable increases, so does the value of the other variable; or (2) as the value of one variable increases, the other variable value decreases. Since we are trying to understand the trend, spearman would be the most suitable method of compute the correlation coefficient.\n\nNext, I will plot the data on a graph to verify the results obtained in the third step.\n\nFinally, I will conclude with a short write up about the findings."
    },
    {
      "metadata": {
        "_uuid": "5877779135898ee9e249ec30c0ae6d233fd70557"
      },
      "cell_type": "markdown",
      "source": "## Import the relevant libraries"
    },
    {
      "metadata": {
        "trusted": true,
        "_uuid": "7e27740a942346c7fec47c6a96a4d38a3cc8e81e"
      },
      "cell_type": "code",
      "source": "import matplotlib.pyplot as plt \nimport pandas as pd\nimport numpy as np\nfrom scipy.stats import ttest_ind\n\n# Width = 16, Height = 6\nDIMS=(16, 6)",
      "execution_count": null,
      "outputs": []
    },
    {
      "metadata": {
        "_uuid": "676c21d47ffefd8ac8deb09d8fa249c6cd412df6"
      },
      "cell_type": "markdown",
      "source": "## Import the pollution data"
    },
    {
      "metadata": {
        "trusted": true,
        "_uuid": "54d08cf9bbc3ff23dcfcd72c6d650d94a0a39044"
      },
      "cell_type": "code",
      "source": "df1 = pd.read_csv(\"../input/air-pollutant-carbon-monoxide-2nd-maximum-8-hour-mean.csv\")\ndf2 = pd.read_csv(\"../input/air-pollutant-nitrogen-dioxide.csv\")\ndf3 = pd.read_csv(\"../input/air-pollutant-ozone.csv\")\ndf4 = pd.read_csv(\"../input/air-pollutant-particulate-matter-pm2-5.csv\")\ndf5 = pd.read_csv(\"../input/air-pollutant-particulate-matter-pm10.csv\")\ndf6 = pd.read_csv(\"../input/air-pollutant-particulate-matter-pm10.csv\")\ndf7 = pd.read_csv(\"../input/air-polluant-lead.csv\")",
      "execution_count": null,
      "outputs": []
    },
    {
      "metadata": {
        "trusted": true,
        "_uuid": "6095d5b9cbacaa38126c8419878e7360865d2a39"
      },
      "cell_type": "markdown",
      "source": "Now, I want to combine all my dataframes into 1 dataframe so that it would be easier to process and plot the data."
    },
    {
      "metadata": {
        "trusted": true,
        "_uuid": "894c2b3610b834903e810e06df819edf4a8266b1"
      },
      "cell_type": "code",
      "source": "pollution_df_1 = pd.merge(df1, df2, on='year', how='outer')\npollution_df_2 = pd.merge(pollution_df_1, df3, on='year', how='outer')\npollution_df_3 = pd.merge(pollution_df_2, df4, on='year', how='outer')\npollution_df_4 = pd.merge(pollution_df_3, df5, on='year', how='outer')\npollution_df_5 = pd.merge(pollution_df_4, df6, on='year', how='outer')\npollution_df_6 = pd.merge(pollution_df_5, df7, on='year', how='outer')",
      "execution_count": null,
      "outputs": []
    },
    {
      "metadata": {
        "_uuid": "4b6eb6424d33c594f43162f96950a618716e3c28"
      },
      "cell_type": "markdown",
      "source": "## Data preprocessing"
    },
    {
      "metadata": {
        "_uuid": "d9958063e5ed99fdf41999f03eef0f3edc495e4a"
      },
      "cell_type": "markdown",
      "source": "Next, we need to pre-process this data. I wish to drop all the rows with 'NaN' values and I only want to display the data from 2008 to 2014. I choose to study the data from 2008 to 2014 as that is the largest timeframe where each feature has all the data."
    },
    {
      "metadata": {
        "trusted": true,
        "_uuid": "6d29992ee58b18fd8b810908cf0a92c8a78d6f4c",
        "scrolled": true
      },
      "cell_type": "code",
      "source": "#Remove NaN values\npol_df = pollution_df_6.dropna().sort_values('year', ascending=True)\n\n#Select data from 2008 to 2014\nyear = range(2008, 2015)\npol_df = pol_df[pol_df['year'].isin(year)]\npol_df = pol_df.drop('year', axis=1)\n\n#Mean Normalization\npol_df=(pol_df-pol_df.mean())/pol_df.std()\npol_df['year'] = year\n\npol_df",
      "execution_count": null,
      "outputs": []
    },
    {
      "metadata": {
        "_uuid": "80808d2a19963568d9140062f2f4d151af9e82fa"
      },
      "cell_type": "markdown",
      "source": "## Plotting the pollution graph"
    },
    {
      "metadata": {
        "trusted": true,
        "_uuid": "03cc2f4f67c2b6d571dadc18e31560d4731f0ffa"
      },
      "cell_type": "code",
      "source": "#Variables to plot\nVar_to_plot = ['carbon_monoxide_2nd_maximum_8hourly_mean','nitrogen_dioxide_mean', 'pm2.5_mean','ozone_4th_maximum_8hourly_mean',\n               'pm10_2nd_maximum_24hourly_mean_x','pm10_2nd_maximum_24hourly_mean_x', 'air_pollutant_lead_mean']\n\n#Draw plot\nIndi_pol_plot = pol_df.plot(x='year', y = Var_to_plot, kind = 'line', grid = True, figsize=DIMS,\n                        title = 'Individual Pollution in Singapore from 2008 to 2014')\n\n#Graph formatting\nIndi_pol_plot.legend(loc='center left', bbox_to_anchor=(1, 0.5))\nplt.show()",
      "execution_count": null,
      "outputs": []
    },
    {
      "metadata": {
        "_uuid": "8825a3d55539b41d232dbac340d44551ca7a774d"
      },
      "cell_type": "markdown",
      "source": "## Observation\n\nThis graph shows the pollution trends of multiple pollutants. We will be using this information to find out if there is a co-relation between pollution and certain industries. \n\n## Importing manufacturing data\nNow, we wish to study if changes in the manufacturing industry can affect the environment. According to the [smeportal](https://www.smeportal.sg/content/smeportal/en/industries/manufacturing.html) website, the manufacturing industry contributes 20% to 25% of Singapore’s Gross Domestic Product (GDP). [This](https://www.smeportal.sg/content/smeportal/en/industries/manufacturing/overview-of-manufacturing-industry.html) web page shows us that the two biggest industries are Chemicals & Chemical Products and Computer, Electronic & Optical Products. Therefore, we will study the behavior of these two industries.\n\nTo get started, we import the data. "
    },
    {
      "metadata": {
        "trusted": true,
        "_uuid": "972eb85986ea2b61c5f39d5befa88a377022722c"
      },
      "cell_type": "code",
      "source": "maufacture_df =  pd.read_csv(\"../input/total-output-in-manufacturing-by-industry-annual.csv\")",
      "execution_count": null,
      "outputs": []
    },
    {
      "metadata": {
        "_uuid": "a8eb357fb93b8de58c016eac95fc5d3d7ef4e99e"
      },
      "cell_type": "markdown",
      "source": "## Data preprocessing"
    },
    {
      "metadata": {
        "trusted": true,
        "_uuid": "30ca97453b3df9fbe637b44810b1464c35673dea"
      },
      "cell_type": "code",
      "source": "#Selecting years required\nyear = range(2008, 2015)\nmaufacture_df = maufacture_df[maufacture_df['year'].isin(year)]\n\n#Selecting the industries\nlisttofind = ['Chemicals & Chemical Products', 'Computer, Electronic & Optical Products' ]\nmaufacture_df = maufacture_df[maufacture_df['level_2'].isin(listtofind)]\n\n#Reformat the dataframe\nmaufacture_df =  maufacture_df.set_index(['year', 'level_2'])['value'].unstack()\n\n#Mean normalization\nmaufacture_df=(maufacture_df-maufacture_df.mean())/maufacture_df.std()\nmaufacture_df['year'] = year\nmaufacture_df",
      "execution_count": null,
      "outputs": []
    },
    {
      "metadata": {
        "_uuid": "8644de2983cbde6346e510b0e7933e785e4f4a51"
      },
      "cell_type": "markdown",
      "source": "## Plotting the manufacturing graph"
    },
    {
      "metadata": {
        "trusted": true,
        "_uuid": "300e00ae8acbbba278548ca6c5c398d4861101d9"
      },
      "cell_type": "code",
      "source": "#Draw plot\nmanu_graph = maufacture_df.plot(x='year', y=listtofind, kind = 'line', grid = True, figsize=DIMS, #ax = ax2,\n                         title = 'Manufacturing of different industries from 2008 to 2014')\nIndi_pol_plot = pol_df.plot(x='year', y = Var_to_plot, kind = 'line', grid = True, figsize=DIMS,\n                        title = 'Individual Pollution in Singapore from 2008 to 2014')\n\n#Graph formatting\nIndi_pol_plot.legend(loc='center left', bbox_to_anchor=(1, 0.5))\nmanu_graph.legend(loc='center left', bbox_to_anchor=(1, 0.5))\nplt.tight_layout()\nplt.show()",
      "execution_count": null,
      "outputs": []
    },
    {
      "metadata": {
        "_uuid": "3d1d7e46da6260d420e2e246b82ab9cdd0c2e6c6"
      },
      "cell_type": "markdown",
      "source": "## Finding which pollutant does the electronics industry correlates to the most."
    },
    {
      "metadata": {
        "trusted": true,
        "_uuid": "49b4653036c6f9633f486683a79ce0b21b666e3b"
      },
      "cell_type": "code",
      "source": "#Create new dataframe\ncom_corr = pol_df.copy()\n\n#Add in the electronics data\ncom_corr['Com'] = maufacture_df['Computer, Electronic & Optical Products'].tolist()\n\n#Product correlation dataframe\ncom_corr.corr(method = 'spearman')",
      "execution_count": null,
      "outputs": []
    },
    {
      "metadata": {
        "_uuid": "64ae6e3a77f0106850d29eaafacca00f8892dbd9"
      },
      "cell_type": "markdown",
      "source": "## Observation\nAs seen from the table above, there is a 86% correlation betweem the electronics industry and the carbon monoxide pollutant. To study this visually, we will plot a graph. "
    },
    {
      "metadata": {
        "_uuid": "3671b9dd7b7a4a203482ee015a6e3f5f4d607230"
      },
      "cell_type": "markdown",
      "source": "## Plotting the electronics industry VS Carbon monoxide pollution graph"
    },
    {
      "metadata": {
        "trusted": true,
        "_uuid": "24602b1f7f03b5be3b2b8f458e80d77f5113b561"
      },
      "cell_type": "code",
      "source": "#Draw plot\nmanu_graph = maufacture_df.plot(x='year', y='Computer, Electronic & Optical Products', kind = 'line', grid = True)\npol_df.plot(x='year', y = 'carbon_monoxide_2nd_maximum_8hourly_mean', kind = 'line', grid = True, figsize=DIMS, ax=manu_graph,\n                        title = 'Electronics Industry VS Carbon Monoxide Pollution')\n\n#Graph formatting\nplt.legend(loc='center left', bbox_to_anchor=(1, 0.5))\nplt.tight_layout()\nplt.show()",
      "execution_count": null,
      "outputs": []
    },
    {
      "metadata": {
        "_uuid": "27c241b8ed5c62cc01ef3740ab2ec0d97fe105cd"
      },
      "cell_type": "markdown",
      "source": "## Observation\nThis graph supports the above observation as it can be seen that the trends of the carbon monoxide pollution and electronics indusrty are very similar."
    },
    {
      "metadata": {
        "_uuid": "2f7aff95c3792e8b9cf57c2d1ef9692e9c03808a"
      },
      "cell_type": "markdown",
      "source": "## Finding which pollutant does the checmical industry correlates to the most."
    },
    {
      "metadata": {
        "trusted": true,
        "_uuid": "6561cb6ac2f485b91c189fe4e881630309885a5d"
      },
      "cell_type": "code",
      "source": "#Create new dataframe\nchem_corr = pol_df.copy()\n\n#Add in the chemical data\nchem_corr['Chem'] = maufacture_df['Chemicals & Chemical Products'].tolist()\n\n#Product correlation dataframe\nchem_corr.corr(method = 'spearman')",
      "execution_count": null,
      "outputs": []
    },
    {
      "metadata": {
        "_uuid": "cb898bc5cc7379220ff61f6f07b544e3d61e1641"
      },
      "cell_type": "markdown",
      "source": "## Observation\nAs seen from the table above, there is a 82% correlation betweem the chemical industry and the ozone pollutant. To study this visually, we will plot a graph."
    },
    {
      "metadata": {
        "_uuid": "74d2a3b2749a3c1a040a61c853c4d604c02c8b6a"
      },
      "cell_type": "markdown",
      "source": "## Plotting the chemical industry VS Ozone pollution graph"
    },
    {
      "metadata": {
        "trusted": true,
        "_uuid": "8cce0b3c75c1e46218ba538f60b2425013203fc7"
      },
      "cell_type": "code",
      "source": "#Draw plot\nmanu_graph = maufacture_df.plot(x='year', y='Chemicals & Chemical Products', kind = 'line', grid = True)\npol_df.plot(x='year', y = 'ozone_4th_maximum_8hourly_mean', kind = 'line', grid = True, figsize=DIMS, ax=manu_graph,\n                        title = 'Chemicals Industry VS Ozone Pollution')\n\n#Graph formatting\nplt.legend(loc='center left', bbox_to_anchor=(1, 0.5))\nplt.tight_layout()\nplt.show()",
      "execution_count": null,
      "outputs": []
    },
    {
      "metadata": {
        "_uuid": "3bab215dd40c657b8b4428621f6dfc6ac367a1aa"
      },
      "cell_type": "markdown",
      "source": "## Observation\nThis graph supports the above observation as it can be seen that the trends of the ozone pollution and Chemicals indusrty are very similar."
    },
    {
      "metadata": {
        "_uuid": "c3a2e9d7378e385b5a7cf69ea30fb92d3a7b4fbd"
      },
      "cell_type": "markdown",
      "source": "## Hypothesis 1 conclusion\nStudying the statistical data closely, we can conclude that the electronics industry has a 86% similarity with the carbon monoxide pollution and the chemical industry has a 82% similarity with the ozone pollution. To supplement this observtion, we can also see from the graphs that the variables are closely related.\n\nTherefore, I can conclude that there is **sufficient** evidence to support my first hypothesis claim."
    },
    {
      "metadata": {
        "_uuid": "3e5d9944a061529a3dde321f6975ffbcbef6d36d"
      },
      "cell_type": "markdown",
      "source": "## Importing housing data"
    },
    {
      "metadata": {
        "_uuid": "dab7f33106a8827bbb987bfe7c8c951dab4fd058"
      },
      "cell_type": "markdown",
      "source": "Now we do the necessary data pre-processing. For this section, I will only be looking at the under construction data for HDB, Emporiums and Supermarkets and Shops, Lock-Up Shops and Eating Houses. The reason why I choose HDB for housing is because 80% of Singaporeans live in HDBs. For commercial development, I chose to study Emporiums and Supermarkets and Shops, Lock-Up Shops and Eating Houses. This is because these two categories are the most commonly developed commercial developments in Singapore. In addition, these are the only two categories that has all the data for the selected time period.\n\nFirst, for the HDB development dataset, we select the data from 2008 to 2014. Then, we need to remove DBSS flats in the type column as we are only looking at HDBs. Then, we need to select 'under construction' in the status column as pollution is mainly produced during construction. Then we need to convert the data in the 'no_of_units' column from string to integer. Finally, we will perform a mean normalization."
    },
    {
      "metadata": {
        "trusted": true,
        "_uuid": "338bfbfa65aa340c5b995add356193266687dff9",
        "_kg_hide-input": false,
        "_kg_hide-output": false
      },
      "cell_type": "code",
      "source": "flats_df =  pd.read_csv(\"../input/completion-status-of-hdb-residential-developments.csv\")\ncommercial_df = pd.read_csv(\"../input/completion-status-of-hdb-commercial-developments.csv\")",
      "execution_count": null,
      "outputs": []
    },
    {
      "metadata": {
        "_uuid": "2c3560ddf8e6c2a4bf5c43d296228ae8b5ae2c80"
      },
      "cell_type": "markdown",
      "source": "## Data preprocessing for residential development"
    },
    {
      "metadata": {
        "trusted": true,
        "_uuid": "e536b20057135b9a93560329093429cb89bf09fb"
      },
      "cell_type": "code",
      "source": "#Select the data we want\nflats_df = flats_df[flats_df['financial_year'].isin(year)]\nflats_df = flats_df[(flats_df[\"type\"] != \"DBSS\") & (flats_df[\"status\"] == 'Under Construction')]\n\n#Change the data type\nflats_df['no_of_units'] = flats_df['no_of_units'].apply(np.float)\n\n#Mean normalization\nflats_df['no_of_units']=(flats_df['no_of_units']-flats_df['no_of_units'].mean())/flats_df['no_of_units'].std()\n\nflats_df",
      "execution_count": null,
      "outputs": []
    },
    {
      "metadata": {
        "_uuid": "efa2417c5d392935c69c5548f4082db63ceed2c5"
      },
      "cell_type": "markdown",
      "source": "## Data preprocessing for commercial development"
    },
    {
      "metadata": {
        "_uuid": "ab43111af73da8f6f3f3cae6be38a82b35aa8a6d"
      },
      "cell_type": "markdown",
      "source": "For the commercial development dataset, we first select the data from 2008 to 2014. Then, we select the 'under construction' data in the 'status' column and we also select the two categories that we want from the 'type' column. Next, we rearrange the dataframe so that each category has it's own column. Finally we perform mean normalization.\n"
    },
    {
      "metadata": {
        "trusted": true,
        "_uuid": "c0bc33e028b09337f474c08f667bf409f1398528"
      },
      "cell_type": "code",
      "source": "#Select the data we want\ncommercial_df = commercial_df[commercial_df['financial_year'].isin(year)]\ncommercial_df = commercial_df[(commercial_df[\"status\"] == 'Under Construction') & (commercial_df['no_of_units'] != 0) & (commercial_df['type'].isin(['Shops, Lock-Up Shops and Eating Houses', 'Emporiums and Supermarkets']))]\n\n#Reformat dataframe\ncomm_df =  commercial_df.set_index(['financial_year', 'type'])['no_of_units'].unstack().reset_index()\n\n#Mean normalization\ncomm_df=(comm_df-comm_df.mean())/comm_df.std()\n\ncomm_df",
      "execution_count": null,
      "outputs": []
    },
    {
      "metadata": {
        "_uuid": "91875f83d010c926e024b24afc9671dbaff3600c"
      },
      "cell_type": "markdown",
      "source": "## Joining the dataframes together"
    },
    {
      "metadata": {
        "trusted": true,
        "_uuid": "e1a19dbed2600da8ffd582ad569c2f17e79cd812"
      },
      "cell_type": "code",
      "source": "property_df = pd.DataFrame()\nproperty_df['year'] = year\nproperty_df['HDB'] = flats_df['no_of_units'].tolist()\nproperty_df['Emporiums and Supermarkets'] = comm_df['Emporiums and Supermarkets'].tolist()\nproperty_df['Shops, Lock-Up Shops and Eating Houses'] = comm_df['Shops, Lock-Up Shops and Eating Houses'].tolist()\n\nproperty_df",
      "execution_count": null,
      "outputs": []
    },
    {
      "metadata": {
        "_uuid": "81f5faa424d81d32868cf46bc3f2d4194a2248d0"
      },
      "cell_type": "markdown",
      "source": "## Finding a correlation between residential and commercial data and each pollutant"
    },
    {
      "metadata": {
        "trusted": true,
        "_uuid": "08a7c78702901e15a6ba297109c63b7317bb9359"
      },
      "cell_type": "code",
      "source": "#Create new dataframe\nhousing_corr = pol_df.copy()\n\n#Add in the housing data\nhousing_corr['HDB'] = property_df['HDB'].tolist()\nhousing_corr['E&S'] = property_df['Emporiums and Supermarkets'].tolist()\nhousing_corr['Shops'] = property_df['Shops, Lock-Up Shops and Eating Houses'].tolist()\n\n#Product correlation dataframe\nhousing_corr.corr(method = 'spearman')",
      "execution_count": null,
      "outputs": []
    },
    {
      "metadata": {
        "_uuid": "e93b5819a066bebceaa11427b1b2c9baa78f76df"
      },
      "cell_type": "markdown",
      "source": "## Observation\n\nAs seen from the table above, all three features are very closely related, more than 80%, to the ozone pollution. We will verify this by plotting the graphs."
    },
    {
      "metadata": {
        "_uuid": "c95827c7ee399f20dc7d8f4fd6d0c1f3a02d45b3"
      },
      "cell_type": "markdown",
      "source": "## Plotting residential and commercial data"
    },
    {
      "metadata": {
        "trusted": true,
        "_uuid": "02c097d35844c629c73d9c345997f3e2e25174f4"
      },
      "cell_type": "code",
      "source": "#Draw plot\nproperty_df_plot = property_df.plot(x='year', y=['HDB', \n                              'Emporiums and Supermarkets', \n                              'Shops, Lock-Up Shops and Eating Houses'], \n                              kind = 'line', grid = True, figsize = DIMS,\n                              title = 'Under construction HDB from 2008 to 2014')\npol_df.plot(x='year', y = 'ozone_4th_maximum_8hourly_mean', kind = 'line', grid = True, figsize=DIMS, ax=property_df_plot,\n                        title = 'Residencial and Commercial Development VS Ozone Pollution')\n\n#Graph formatting\nplt.legend(loc='center left', bbox_to_anchor=(1, 0.5))\nplt.tight_layout()\nplt.show()",
      "execution_count": null,
      "outputs": []
    },
    {
      "metadata": {
        "_uuid": "b9c55a4fee0730c982b512d6e5f548e6e12b2008"
      },
      "cell_type": "markdown",
      "source": "## Hypothesis 2 conclusion\nStatistically, each feature is closely related to the ozone pollution; 82% for HDB, 86% for emporiums and supermarkets and 86% as well for shops, lock-up shops and eating houses. The graph plotted also shows that the features do follow the trend of the ozone pollution.\n\nTherefore, I can conclude that there is **sufficient** evidence to support my second hypothesis claim."
    },
    {
      "metadata": {
        "_uuid": "c3c57e3bc1d82ac046dc5cfe577ae031a2dade70"
      },
      "cell_type": "markdown",
      "source": "## Import vehicle data"
    },
    {
      "metadata": {
        "_uuid": "6b79f471147ccd33e5182a09e199a1aa45eaedc7"
      },
      "cell_type": "markdown",
      "source": "Now we need to do data preprocessing. Like we have done in the previous three steps, we first select the years that we are interested in. We then perform a group by year so that all the populations of the different vehicles are added together. Lastly, we perform a mean normalization."
    },
    {
      "metadata": {
        "trusted": true,
        "_uuid": "dd6d7fdb7d4266d6f53373a7b5b6888f976c1310"
      },
      "cell_type": "code",
      "source": "veh_df = pd.read_csv(\"../input/annual-motor-vehicle-population-by-vehicle-type.csv\")",
      "execution_count": null,
      "outputs": []
    },
    {
      "metadata": {
        "_uuid": "c0316605416cff533958154d5572d7edca0d4605"
      },
      "cell_type": "markdown",
      "source": "## Data preprocessing"
    },
    {
      "metadata": {
        "trusted": true,
        "_uuid": "10212acc01658e19fe8a7e079cd79f35a6b82ff4"
      },
      "cell_type": "code",
      "source": "#Select the data we need\nveh_df = veh_df[veh_df['year'].isin(year)]\n\n#Perform groupby\nveh_df = veh_df.groupby('year').sum().reset_index()\n\n#Mean normalization\nveh_df['number']=(veh_df['number']-veh_df['number'].mean())/veh_df['number'].std()\nveh_df.rename(columns = {'number':'Number of Vehicles'}, inplace = True)\nveh_df",
      "execution_count": null,
      "outputs": []
    },
    {
      "metadata": {
        "_uuid": "d63029fc6fad2e4ce2618d9329db4b42dec2a453"
      },
      "cell_type": "markdown",
      "source": "## Finding a correlation with the vehicle population and pollutants"
    },
    {
      "metadata": {
        "trusted": true,
        "_uuid": "ade839d8b7f1404e8a82832881c56269502ab5bd"
      },
      "cell_type": "code",
      "source": "#Create new dataframe\nveh_corr = pol_df.copy()\n\n#Add in the housing data\nveh_corr['Veh'] = veh_df['Number of Vehicles'].tolist()\n\n#Product correlation dataframe\nveh_corr.corr(method = 'spearman')",
      "execution_count": null,
      "outputs": []
    },
    {
      "metadata": {
        "_uuid": "5d7eca82e56ca204c36ef7e6c6719dfa16f6a7c4"
      },
      "cell_type": "markdown",
      "source": "## Observation\nThe table above shows that the vehicle population has a 80% correlation with nitrogen dioxide and 86% correlation with ground-level ozone. The graph bellow will explore this further."
    },
    {
      "metadata": {
        "_uuid": "a8543d807c420476f1c6ac8d25567902b468c1cd"
      },
      "cell_type": "markdown",
      "source": "## Plot vehicle data"
    },
    {
      "metadata": {
        "trusted": true,
        "_uuid": "294cb4b295b1193fd74cc247c414a21da22bbb4d"
      },
      "cell_type": "code",
      "source": "veh_graph = veh_df.plot(x='year', y='Number of Vehicles', kind = 'line', grid = True,\n                    title = 'Vehicle Population from 2008 to 2014')\npol_df.plot(x='year', y = ['nitrogen_dioxide_mean', 'ozone_4th_maximum_8hourly_mean'], kind = 'line', grid = True, figsize=DIMS, ax=veh_graph,\n                        title = 'Vehicle Population VS Ground-Level Ozone and Nitrogen Dioxide Pollution')\n\nplt.legend(loc='center left', bbox_to_anchor=(1, 0.5))\nplt.show()",
      "execution_count": null,
      "outputs": []
    },
    {
      "metadata": {
        "_uuid": "4a1a28ae97665b05d34bb0a116ab16975c5aef6c"
      },
      "cell_type": "markdown",
      "source": "## Observation\nThis graph shows that the trends of the vehicle population and pollutions are similar. Therefore, this supports the claim made by the above statistical analysis. "
    },
    {
      "metadata": {
        "_uuid": "a50134fa3e2096b562e5eeec53581b2ac9f5ecf7"
      },
      "cell_type": "markdown",
      "source": "## Hypothesis 3 conclusion\nThe trends of vehicle population and nitrogen dioxide and ozone pollution are closely related; both statistically and graphically. This makes sense as according to [this](https://www.theicct.org/cards/stack/vehicle-nox-emissions-basics#4) article posted on the the international council on clean transportation website, a study done by them shows that vehicles contribute a lot of nitrogen oxide pollution. Note that nitrogen dioxide is a form of nitrogen oxide. In addition, [this](https://www.scientificamerican.com/article/ozone-pollution-grows-but-it-can-be-fixed/) website on the Scientific American says that, there is a correlation between nitrogen oxide levels and ground-level ozone levels. nitrogen oxide pollution, combined with volatile organic compounds, interact in the presence of sunlight to produce ground-level ozone pollution. Since Singapore is a tropical island, we get a lot of sunlight which could explain the high ozone levels.\n\nTherefore, we can conclude that there is **sufficient** evidence to support my third hypothesis."
    },
    {
      "metadata": {
        "_uuid": "8aa2c6530ba0b9f1250e0354e7b3caa8ce2cd70b"
      },
      "cell_type": "markdown",
      "source": "## Experiment conclusion\nOne of the main reasons I want to enter the data science industry is that, as seen from this experiment, data science allows us to find relations between subjects that seem unrelated and will help us find meaning in data. This experiment has helped us identify what type of pollutants Singapore's 2 biggest manufacturing industries release into the environment. It has also given us some insight about pollution released by the residencial and commercial development in Singapore and the vehicle population in Singapore. \n\nThankfully, Singapore aims to become a [car-lite socitey](https://www.todayonline.com/singapore/getting-singaporeans-embrace-car-lite-society) by 2040. This means that the vehicle population will be significatly reduced. However, more work has to be done to find clean alternatives to residencial and commercial development and the manufacturing industries in Singapore."
    },
    {
      "metadata": {
        "_uuid": "281ae6ee10075ea2a6ddde2f8e103d9e322dd0d1"
      },
      "cell_type": "markdown",
      "source": "## Further development\nFurther improvements to identify sources of pollution can be made by studying more recent data, when it becomes available, or by studying other factors such as haze, shipping and Waste incineration."
    },
    {
      "metadata": {
        "_uuid": "cd0aabd9b3cddd4eb72318231feeed7512d92743"
      },
      "cell_type": "markdown",
      "source": "## Reader take-aways\nI hope the reader has gotten a better understanding of air pollution and the type of air pollutants there are in the environment. I also hope that I have convinced the reader that data science can be used in many areas, not only environmental, to provide a bird’s eye view of any issue and in this case, to awaken the general population to the reality of environmental problems and lending credibility to campaigns about adopting lifestyle changes that help address these problems. "
    },
    {
      "metadata": {
        "_uuid": "05a305a61261bbc7d87f72d50b91f2d6ec206eff"
      },
      "cell_type": "markdown",
      "source": "# APPENDIX\n\nData Used:  \n[air-pollutant-carbon-monoxide-2nd-maximum-8-hour-mean.csv](http://data.gov.sg/dataset/air-pollutant-carbon-monoxide)  \n[air-pollutant-nitrogen-dioxide.csv](https://data.gov.sg/dataset/air-pollutant-nitrogen-dioxide)  \n[air-pollutant-ozone.csv](https://data.gov.sg/dataset/air-pollutant-ozone)  \n[air-pollutant-particulate-matter-pm10.csv](https://data.gov.sg/dataset/air-pollutant-particulate-matter-pm10)  \n[air-pollutant-particulate-matter-pm2-5.csv](https://data.gov.sg/dataset/air-pollutant-particulate-matter-pm2-5)  \n[air-pollutant-sulphur-dioxide.csv](https://data.gov.sg/dataset/air-pollutant-sulphur-dioxide)  \n[annual-motor-vehicle-population-by-vehicle-type.csv](https://data.gov.sg/dataset/annual-motor-vehicle-population-by-vehicle-type)  \n[completion-status-of-hdb-commercial-developments.csv](https://data.gov.sg/dataset/number-of-units-of-hdb-developments-by-status?resource_id=cd37aed4-2d93-4e05-b6f9-4b249603f125)  \n[completion-status-of-hdb-residential-developments.csv](https://data.gov.sg/dataset/number-of-units-of-hdb-developments-by-status?resource_id=ff97dd96-6db5-4eb7-ba79-ad8d4840a3aa)  \n[total-output-in-manufacturing-by-industry-annual.csv](https://data.gov.sg/dataset/total-output-manufacturing-annual?resource_id=7ef90aef-5191-44cd-bc06-0d37088a5733)  \n[air-polluant-lead.csv](https://data.gov.sg/dataset/air-polluant-lead?resource_id=2b14a0cf-203c-4b0f-8432-62be3971f9b6)\n"
    }
  ],
  "metadata": {
    "kernelspec": {
      "display_name": "Python 3",
      "language": "python",
      "name": "python3"
    },
    "language_info": {
      "name": "python",
      "version": "3.6.6",
      "mimetype": "text/x-python",
      "codemirror_mode": {
        "name": "ipython",
        "version": 3
      },
      "pygments_lexer": "ipython3",
      "nbconvert_exporter": "python",
      "file_extension": ".py"
    }
  },
  "nbformat": 4,
  "nbformat_minor": 1
}
